{
 "cells": [
  {
   "cell_type": "markdown",
   "metadata": {},
   "source": [
    "## Interview times\n",
    "**Goal:** Confirm that all interviews have a status"
   ]
  },
  {
   "cell_type": "markdown",
   "metadata": {},
   "source": [
    "### Imports"
   ]
  },
  {
   "cell_type": "code",
   "execution_count": null,
   "metadata": {
    "collapsed": false
   },
   "outputs": [],
   "source": [
    "from datetime import datetime, date\n",
    "import sys\n",
    "import os\n",
    "\n",
    "sys.path.insert(0,os.path.abspath('../..'))\n",
    "\n",
    "import pandas as pd\n",
    "\n",
    "import utils\n",
    "plotly, Box, Histogram, Layout, Figure, Bar, Scatter, Marker = utils.setPlotly()"
   ]
  },
  {
   "cell_type": "markdown",
   "metadata": {},
   "source": [
    "### Get the data"
   ]
  },
  {
   "cell_type": "code",
   "execution_count": null,
   "metadata": {
    "collapsed": true
   },
   "outputs": [],
   "source": [
    "allowedStatus = utils.allowedStatus\n",
    "allowedDomains = utils.allowedDomains['greenville']"
   ]
  },
  {
   "cell_type": "code",
   "execution_count": null,
   "metadata": {
    "collapsed": true
   },
   "outputs": [],
   "source": [
    "ia = utils.getInterviewArchive()"
   ]
  },
  {
   "cell_type": "code",
   "execution_count": null,
   "metadata": {
    "collapsed": true
   },
   "outputs": [],
   "source": [
    "april4 = datetime(2016, 4, 4)\n",
    "allFromApril4 = pd.DataFrame(list(ia.find({\"createTime\": {\"$gte\": april4}, \"domainName\": {\"$in\": allowedDomains}})))"
   ]
  },
  {
   "cell_type": "code",
   "execution_count": null,
   "metadata": {
    "collapsed": true
   },
   "outputs": [],
   "source": [
    "noStatus = pd.DataFrame(list(ia.find({\"status\": {\"$in\": [None]}, \"domainName\": {\"$in\": allowedDomains}})))"
   ]
  },
  {
   "cell_type": "code",
   "execution_count": null,
   "metadata": {
    "collapsed": false
   },
   "outputs": [],
   "source": [
    "len(noStatus)"
   ]
  },
  {
   "cell_type": "code",
   "execution_count": null,
   "metadata": {
    "collapsed": false
   },
   "outputs": [],
   "source": [
    "groupedNoStatus = pd.DataFrame(noStatus.groupby(by=['createTime', 'chiefComplaint']).size())\n",
    "groupedNoStatus = groupedNoStatus.rename(columns={0: 'total'})\n",
    "groupedNoStatus = groupedNoStatus.reset_index()"
   ]
  },
  {
   "cell_type": "code",
   "execution_count": null,
   "metadata": {
    "collapsed": false
   },
   "outputs": [],
   "source": [
    "modules = groupedNoStatus['chiefComplaint'].unique()\n",
    "noStatusPerModule = []\n",
    "for m in modules:\n",
    "    mSlice = groupedNoStatus[groupedNoStatus['chiefComplaint'] == m]\n",
    "    noStatusPerModule.append(Bar(x=mSlice['createTime'],y=mSlice['total'], name=m ))\n",
    "\n",
    "plotly.offline.iplot(Figure(data=noStatusPerModule, layout=Layout(bargap=0.2, title=\"Ocurrences of interviews without status\")))"
   ]
  },
  {
   "cell_type": "code",
   "execution_count": null,
   "metadata": {
    "collapsed": true
   },
   "outputs": [],
   "source": []
  }
 ],
 "metadata": {
  "kernelspec": {
   "display_name": "Python 2",
   "language": "python",
   "name": "python2"
  },
  "language_info": {
   "codemirror_mode": {
    "name": "ipython",
    "version": 2
   },
   "file_extension": ".py",
   "mimetype": "text/x-python",
   "name": "python",
   "nbconvert_exporter": "python",
   "pygments_lexer": "ipython2",
   "version": "2.7.10"
  }
 },
 "nbformat": 4,
 "nbformat_minor": 0
}
