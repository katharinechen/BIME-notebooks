{
 "cells": [
  {
   "cell_type": "markdown",
   "metadata": {},
   "source": [
    "## Interview times - Greenville\n",
    "**Goal:** Confirm that the time for each process in the survey workflow is measured correctly"
   ]
  },
  {
   "cell_type": "markdown",
   "metadata": {},
   "source": [
    "### Imports"
   ]
  },
  {
   "cell_type": "code",
   "execution_count": 1,
   "metadata": {
    "collapsed": false
   },
   "outputs": [
    {
     "ename": "ValueError",
     "evalue": "Attempted relative import in non-package",
     "output_type": "error",
     "traceback": [
      "\u001b[0;31m---------------------------------------------------------------------------\u001b[0m",
      "\u001b[0;31mValueError\u001b[0m                                Traceback (most recent call last)",
      "\u001b[0;32m<ipython-input-1-c3357d1d4e7b>\u001b[0m in \u001b[0;36m<module>\u001b[0;34m()\u001b[0m\n\u001b[1;32m      3\u001b[0m \u001b[0;34m\u001b[0m\u001b[0m\n\u001b[1;32m      4\u001b[0m \u001b[0;32mimport\u001b[0m \u001b[0mnbimporter\u001b[0m\u001b[0;34m\u001b[0m\u001b[0m\n\u001b[0;32m----> 5\u001b[0;31m \u001b[0;32mfrom\u001b[0m \u001b[0;34m.\u001b[0m\u001b[0;34m.\u001b[0m \u001b[0;32mimport\u001b[0m \u001b[0mutils\u001b[0m\u001b[0;34m\u001b[0m\u001b[0m\n\u001b[0m\u001b[1;32m      6\u001b[0m \u001b[0mplotly\u001b[0m\u001b[0;34m,\u001b[0m \u001b[0mBox\u001b[0m\u001b[0;34m,\u001b[0m \u001b[0mHistogram\u001b[0m\u001b[0;34m,\u001b[0m \u001b[0mLayout\u001b[0m\u001b[0;34m,\u001b[0m \u001b[0mFigure\u001b[0m\u001b[0;34m,\u001b[0m \u001b[0mBar\u001b[0m\u001b[0;34m,\u001b[0m \u001b[0mScatter\u001b[0m\u001b[0;34m,\u001b[0m \u001b[0mMarker\u001b[0m \u001b[0;34m=\u001b[0m \u001b[0mutils\u001b[0m\u001b[0;34m.\u001b[0m\u001b[0msetPlotly\u001b[0m\u001b[0;34m(\u001b[0m\u001b[0;34m)\u001b[0m\u001b[0;34m\u001b[0m\u001b[0m\n",
      "\u001b[0;31mValueError\u001b[0m: Attempted relative import in non-package"
     ]
    }
   ],
   "source": [
    "from datetime import datetime, date\n",
    "import pandas as pd\n",
    "\n",
    "import nbimporter\n",
    "from .. import utils\n",
    "plotly, Box, Histogram, Layout, Figure, Bar, Scatter, Marker = utils.setPlotly()"
   ]
  },
  {
   "cell_type": "markdown",
   "metadata": {},
   "source": [
    "### Get the data"
   ]
  },
  {
   "cell_type": "code",
   "execution_count": null,
   "metadata": {
    "collapsed": true
   },
   "outputs": [],
   "source": [
    "allowedStatus = utils.allowedStatus\n",
    "allowedDomains = utils.allowedDomains['greenville']"
   ]
  },
  {
   "cell_type": "code",
   "execution_count": null,
   "metadata": {
    "collapsed": true
   },
   "outputs": [],
   "source": [
    "ia = utils.getInterviewArchive()"
   ]
  },
  {
   "cell_type": "code",
   "execution_count": null,
   "metadata": {
    "collapsed": true
   },
   "outputs": [],
   "source": [
    "april4 = datetime(2016, 4, 4)\n",
    "allFromApril4 = pd.DataFrame(list(ia.find({\"createTime\": {\"$gte\": april4}, \"domainName\": {\"$in\": allowedDomains}})))"
   ]
  },
  {
   "cell_type": "markdown",
   "metadata": {},
   "source": [
    "### Grouped dataframes\n",
    "\n",
    "Useful for the following visualizations"
   ]
  },
  {
   "cell_type": "code",
   "execution_count": null,
   "metadata": {
    "collapsed": false
   },
   "outputs": [],
   "source": [
    "allFromApril4[\"createDate\"] = allFromApril4[\"createTime\"].dt.date\n",
    "\n",
    "\n",
    "completed = allFromApril4[(allFromApril4['status'] == 'completed') & (allFromApril4[\"domainName\"].isin(allowedDomains))]\n",
    "completed.loc[:, 'interviewTime'] = pd.to_timedelta(completed['finishTime'] - completed['createTime']).dt.seconds/60\n",
    "completed.loc[:, 'ptIdleTime'] = pd.to_timedelta(completed['signTime'] - completed['finishTime']).dt.seconds/60\n",
    "completed.loc[:, 'ptCareDeliveryTime'] = pd.to_timedelta(completed['signTime'] - completed['viewTime']).dt.seconds/60\n",
    "\n",
    "completedGroupedMean = completed.groupby(['createDate', 'chiefComplaint'])\n",
    "completedGroupedMean = completedGroupedMean.mean()\n",
    "completedGroupedMean = completedGroupedMean.reset_index()\n",
    "\n",
    "completedGroupedMedian = completed.groupby(['createDate', 'chiefComplaint'])\n",
    "completedGroupedMedian = completedGroupedMedian.median()\n",
    "completedGroupedMedian = completedGroupedMedian.reset_index()"
   ]
  },
  {
   "cell_type": "code",
   "execution_count": null,
   "metadata": {
    "collapsed": true
   },
   "outputs": [],
   "source": [
    "def plotHistogram(data, **kw):\n",
    "    \"\"\"\n",
    "    Plot histogram with nice layout\n",
    "    \"\"\"\n",
    "    layout = Layout(\n",
    "        title=kw.get('title', ''),\n",
    "        xaxis=dict(\n",
    "            title=kw.get('xlabel', '')\n",
    "        ),\n",
    "        yaxis=dict(\n",
    "            title=kw.get('ylabel', '')\n",
    "        ),\n",
    "        bargap=0.1,\n",
    "        bargroupgap=0\n",
    "    )\n",
    "    bins = dict(start=0, end=100, size=1)\n",
    "    plotly.offline.iplot(Figure(data=[Histogram(x=data, xbins=bins, autobinx=False)], layout=layout))\n",
    "\n",
    "modules = pd.Series(completed[\"chiefComplaint\"]).unique()\n",
    "def plotStackBar(data, fields, title):\n",
    "    \"\"\"\n",
    "    Plot stack bard with multiple fields\n",
    "    \"\"\"\n",
    "    charts = []\n",
    "    y = data\n",
    "    for f in fields:\n",
    "        charts.append(Bar(y=y[f], x=y['createDate'], name=f))\n",
    "\n",
    "    layout = Layout(barmode='stack', title=title)\n",
    "    figTimes = Figure(data=charts, layout=layout)\n",
    "    plotly.offline.iplot(figTimes)"
   ]
  },
  {
   "cell_type": "code",
   "execution_count": null,
   "metadata": {
    "collapsed": false
   },
   "outputs": [],
   "source": [
    "plotHistogram(completed['interviewTime'], title=\"Histogram of Pt interview time\", xlabel=\"Minutes\", ylabel=\"Frequency\")"
   ]
  },
  {
   "cell_type": "code",
   "execution_count": null,
   "metadata": {
    "collapsed": false
   },
   "outputs": [],
   "source": [
    "plotHistogram(completed['ptIdleTime'], title=\"Histogram of Pt idle time\", xlabel=\"Minutes\", ylabel=\"Frequency\")"
   ]
  },
  {
   "cell_type": "code",
   "execution_count": null,
   "metadata": {
    "collapsed": false
   },
   "outputs": [],
   "source": [
    "plotly.offline.iplot(Figure(data=[Box(y=completed['ptIdleTime'])], layout=Layout( yaxis=dict(range=[0, 40]))))"
   ]
  },
  {
   "cell_type": "code",
   "execution_count": null,
   "metadata": {
    "collapsed": false
   },
   "outputs": [],
   "source": [
    "plotHistogram(completed['ptCareDeliveryTime'], title=\"Histogram of Pt care delivery time\", xlabel=\"Minutes\", ylabel=\"Frequency\")"
   ]
  }
 ],
 "metadata": {
  "kernelspec": {
   "display_name": "Python 2",
   "language": "python",
   "name": "python2"
  },
  "language_info": {
   "codemirror_mode": {
    "name": "ipython",
    "version": 2
   },
   "file_extension": ".py",
   "mimetype": "text/x-python",
   "name": "python",
   "nbconvert_exporter": "python",
   "pygments_lexer": "ipython2",
   "version": "2.7.10"
  }
 },
 "nbformat": 4,
 "nbformat_minor": 0
}
