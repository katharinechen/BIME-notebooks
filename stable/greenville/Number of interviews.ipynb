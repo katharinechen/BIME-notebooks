{
 "cells": [
  {
   "cell_type": "markdown",
   "metadata": {
    "slideshow": {
     "slide_type": "slide"
    }
   },
   "source": [
    "# Number of interviews\n",
    "\n",
    "**Goal:** We are interested in measuring the number of interviews over time"
   ]
  },
  {
   "cell_type": "markdown",
   "metadata": {
    "slideshow": {
     "slide_type": "skip"
    }
   },
   "source": [
    "### Imports"
   ]
  },
  {
   "cell_type": "code",
   "execution_count": null,
   "metadata": {
    "collapsed": false,
    "slideshow": {
     "slide_type": "skip"
    }
   },
   "outputs": [],
   "source": [
    "from datetime import datetime, date\n",
    "import sys\n",
    "import os\n",
    "\n",
    "sys.path.insert(0,os.path.abspath('../..'))\n",
    "\n",
    "import pandas as pd\n",
    "\n",
    "import utils\n",
    "plotly, Box, Histogram, Layout, Figure, Bar, Scatter, Marker = utils.setPlotly()"
   ]
  },
  {
   "cell_type": "markdown",
   "metadata": {},
   "source": [
    "### Getting the data"
   ]
  },
  {
   "cell_type": "code",
   "execution_count": null,
   "metadata": {
    "collapsed": true
   },
   "outputs": [],
   "source": [
    "from custom import allowedDomains, allowedStatus"
   ]
  },
  {
   "cell_type": "code",
   "execution_count": null,
   "metadata": {
    "collapsed": false,
    "slideshow": {
     "slide_type": "skip"
    }
   },
   "outputs": [],
   "source": [
    "ia = utils.getInterviewArchive()"
   ]
  },
  {
   "cell_type": "markdown",
   "metadata": {},
   "source": [
    "### Total number of interviews"
   ]
  },
  {
   "cell_type": "code",
   "execution_count": null,
   "metadata": {
    "collapsed": false
   },
   "outputs": [],
   "source": [
    "ia.count()"
   ]
  },
  {
   "cell_type": "markdown",
   "metadata": {},
   "source": [
    "### Filters\n",
    "\n",
    "We want specific statuses, domains and date in our dataframe"
   ]
  },
  {
   "cell_type": "code",
   "execution_count": null,
   "metadata": {
    "collapsed": false,
    "slideshow": {
     "slide_type": "skip"
    }
   },
   "outputs": [],
   "source": [
    "july6  = datetime(2016, 7, 6)\n",
    "july7  = datetime(2016, 7, 7)\n",
    "april4 = datetime(2016, 4, 4)\n",
    "sept1  = datetime(2016, 9, 1)"
   ]
  },
  {
   "cell_type": "code",
   "execution_count": null,
   "metadata": {
    "collapsed": false,
    "slideshow": {
     "slide_type": "skip"
    }
   },
   "outputs": [],
   "source": [
    "# july_6 = pd.DataFrame(list(ia.find({\"createTime\": {\"$gte\": july6 , \"$lt\": july7 }, \"domainName\": {\"$in\": allowedDomains}})))\n",
    "allFromApril4 = pd.DataFrame(list(ia.find({\"createTime\": {\"$gte\": april4}, \"domainName\": {\"$in\": allowedDomains}})))"
   ]
  },
  {
   "cell_type": "markdown",
   "metadata": {
    "slideshow": {
     "slide_type": "skip"
    }
   },
   "source": [
    "### Friendly functions\n",
    "\n",
    "Allow us to obtain grouped dataframes"
   ]
  },
  {
   "cell_type": "code",
   "execution_count": null,
   "metadata": {
    "collapsed": false,
    "slideshow": {
     "slide_type": "skip"
    }
   },
   "outputs": [],
   "source": [
    "def onlyPeds(d):\n",
    "    \"\"\"\n",
    "    Filter records for ped modules\n",
    "    \"\"\"\n",
    "    return d[d['chiefComplaint'].str.contains('ediatric')]\n",
    "\n",
    "def groupByDate(df):\n",
    "    \"\"\"\n",
    "    Group by create time\n",
    "    \"\"\"\n",
    "    groupedByDate = df.groupby(df[\"createTime\"].dt.date)\n",
    "    x = pd.DataFrame(groupedByDate.size())\n",
    "    x = x.rename(index = None, columns={0:'total'})\n",
    "    x = x.reset_index()\n",
    "    return x\n",
    "\n",
    "def groupByModule(df):\n",
    "    \"\"\"\n",
    "    Group by create time and module\n",
    "    \"\"\"\n",
    "    _groupByModule = df.copy()\n",
    "    _groupByModule[\"createDate\"] = _groupByModule[\"createTime\"].dt.date\n",
    "    _groupedByModule = _groupByModule.groupby([\"chiefComplaint\", \"createDate\"])\n",
    "    x = pd.DataFrame(_groupedByModule.size())\n",
    "    x = x.rename(index = None, columns={0:'total'})\n",
    "    x = x.reset_index()\n",
    "    return x"
   ]
  },
  {
   "cell_type": "markdown",
   "metadata": {
    "slideshow": {
     "slide_type": "skip"
    }
   },
   "source": [
    "## Number of interviews"
   ]
  },
  {
   "cell_type": "markdown",
   "metadata": {
    "slideshow": {
     "slide_type": "skip"
    }
   },
   "source": [
    "### All interviews"
   ]
  },
  {
   "cell_type": "code",
   "execution_count": null,
   "metadata": {
    "collapsed": false,
    "scrolled": false,
    "slideshow": {
     "slide_type": "slide"
    }
   },
   "outputs": [],
   "source": [
    "totalInterviews = groupByDate(allFromApril4)\n",
    "allFromApril4[\"createDate\"] = allFromApril4[\"createTime\"].dt.date\n",
    "plotly.offline.iplot(Figure(data=[Bar(y=totalInterviews['total'], x=totalInterviews['createTime'])], layout=Layout(title=\"Number of interviews per day\")))"
   ]
  },
  {
   "cell_type": "markdown",
   "metadata": {
    "slideshow": {
     "slide_type": "slide"
    }
   },
   "source": [
    "### Pediatric interviews"
   ]
  },
  {
   "cell_type": "code",
   "execution_count": null,
   "metadata": {
    "collapsed": false,
    "scrolled": false,
    "slideshow": {
     "slide_type": "slide"
    }
   },
   "outputs": [],
   "source": [
    "totalPeds = groupByDate(onlyPeds(allFromApril4))\n",
    "plotly.offline.iplot(Figure(data=[Bar(y=totalPeds['total'], x=totalPeds['createTime'])], layout=Layout(title=\"Number of pediatric interviews per day\")))"
   ]
  },
  {
   "cell_type": "code",
   "execution_count": null,
   "metadata": {
    "collapsed": false,
    "slideshow": {
     "slide_type": "skip"
    }
   },
   "outputs": [],
   "source": [
    "x = groupByModule(allFromApril4[allFromApril4[\"status\"].isin(allowedStatus) & allFromApril4[\"domainName\"].isin(allowedDomains)])"
   ]
  },
  {
   "cell_type": "code",
   "execution_count": null,
   "metadata": {
    "collapsed": false,
    "slideshow": {
     "slide_type": "skip"
    }
   },
   "outputs": [],
   "source": [
    "modules = pd.Series(x[\"chiefComplaint\"]).unique()\n"
   ]
  },
  {
   "cell_type": "markdown",
   "metadata": {},
   "source": [
    "### Interviews by module"
   ]
  },
  {
   "cell_type": "code",
   "execution_count": null,
   "metadata": {
    "collapsed": false
   },
   "outputs": [],
   "source": [
    "charts = []\n",
    "for m in modules:\n",
    "    y = x[x[\"chiefComplaint\"] == m]\n",
    "    charts.append(Bar(y=y['total'], x=y['createDate'], name=m))\n",
    "\n",
    "layout = Layout(barmode='stack', title='Interviews per module')\n",
    "fig = Figure(data=charts, layout=layout)\n",
    "iplot(fig)"
   ]
  },
  {
   "cell_type": "code",
   "execution_count": null,
   "metadata": {
    "collapsed": true,
    "slideshow": {
     "slide_type": "skip"
    }
   },
   "outputs": [],
   "source": [
    "x = groupByModule(onlyPeds(allFromApril4[allFromApril4[\"status\"].isin(allowedStatus) & allFromApril4[\"domainName\"].isin(allowedDomains)]))\n",
    "# x = groupByModule(onlyPeds(allFromApril4))"
   ]
  },
  {
   "cell_type": "markdown",
   "metadata": {
    "slideshow": {
     "slide_type": "slide"
    }
   },
   "source": [
    "### Pediatric interviews per module"
   ]
  },
  {
   "cell_type": "code",
   "execution_count": null,
   "metadata": {
    "collapsed": false,
    "slideshow": {
     "slide_type": "slide"
    }
   },
   "outputs": [],
   "source": [
    "charts = []\n",
    "for m in modules:\n",
    "    y = x[x[\"chiefComplaint\"] == m]\n",
    "    charts.append(Bar(y=y['total'], x=y['createDate'], name=m))\n",
    "\n",
    "layout = Layout(barmode='stack', title='Pediatric interviews per module')\n",
    "fig = Figure(data=charts, layout=layout)\n",
    "iplot(fig)"
   ]
  }
 ],
 "metadata": {
  "kernelspec": {
   "display_name": "Python 2",
   "language": "python",
   "name": "python2"
  },
  "language_info": {
   "codemirror_mode": {
    "name": "ipython",
    "version": 2
   },
   "file_extension": ".py",
   "mimetype": "text/x-python",
   "name": "python",
   "nbconvert_exporter": "python",
   "pygments_lexer": "ipython2",
   "version": "2.7.10"
  }
 },
 "nbformat": 4,
 "nbformat_minor": 0
}
