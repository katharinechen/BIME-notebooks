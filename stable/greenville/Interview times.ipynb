{
 "cells": [
  {
   "cell_type": "markdown",
   "metadata": {},
   "source": [
    "## Interview times\n",
    "**Goal:** Confirm that the time for each process in the survey workflow is measured correctly"
   ]
  },
  {
   "cell_type": "markdown",
   "metadata": {},
   "source": [
    "### Imports"
   ]
  },
  {
   "cell_type": "code",
   "execution_count": 2,
   "metadata": {
    "collapsed": false
   },
   "outputs": [
    {
     "data": {
      "text/html": [
       "<script>requirejs.config({paths: { 'plotly': ['https://cdn.plot.ly/plotly-latest.min']},});if(!window.Plotly) {{require(['plotly'],function(plotly) {window.Plotly=plotly;});}}</script>"
      ],
      "text/plain": [
       "<IPython.core.display.HTML object>"
      ]
     },
     "metadata": {},
     "output_type": "display_data"
    }
   ],
   "source": [
    "from datetime import datetime, date\n",
    "import sys\n",
    "import os\n",
    "\n",
    "sys.path.insert(0,os.path.abspath('../..'))\n",
    "\n",
    "import pandas as pd\n",
    "\n",
    "import utils\n",
    "plotly, Box, Histogram, Layout, Figure, Bar, Scatter, Marker = utils.setPlotly()\n",
    "\n"
   ]
  },
  {
   "cell_type": "markdown",
   "metadata": {},
   "source": [
    "### Get the data"
   ]
  },
  {
   "cell_type": "code",
   "execution_count": 3,
   "metadata": {
    "collapsed": true
   },
   "outputs": [],
   "source": [
    "allowedStatus = utils.allowedStatus\n",
    "allowedDomains = utils.allowedDomains['greenville']"
   ]
  },
  {
   "cell_type": "code",
   "execution_count": 4,
   "metadata": {
    "collapsed": true
   },
   "outputs": [],
   "source": [
    "ia = utils.getInterviewArchive()"
   ]
  },
  {
   "cell_type": "code",
   "execution_count": 5,
   "metadata": {
    "collapsed": true
   },
   "outputs": [],
   "source": [
    "april4 = datetime(2016, 4, 4)\n",
    "allFromApril4 = pd.DataFrame(list(ia.find({\"createTime\": {\"$gte\": april4}, \"domainName\": {\"$in\": allowedDomains}})))"
   ]
  },
  {
   "cell_type": "markdown",
   "metadata": {},
   "source": [
    "### Grouped dataframes\n",
    "\n",
    "Useful for the following visualizations"
   ]
  },
  {
   "cell_type": "code",
   "execution_count": 6,
   "metadata": {
    "collapsed": false
   },
   "outputs": [
    {
     "name": "stderr",
     "output_type": "stream",
     "text": [
      "/Users/agraves/Brightmd/lib/python2.7/site-packages/pandas/core/indexing.py:288: SettingWithCopyWarning:\n",
      "\n",
      "\n",
      "A value is trying to be set on a copy of a slice from a DataFrame.\n",
      "Try using .loc[row_indexer,col_indexer] = value instead\n",
      "\n",
      "See the caveats in the documentation: http://pandas.pydata.org/pandas-docs/stable/indexing.html#indexing-view-versus-copy\n",
      "\n",
      "/Users/agraves/Brightmd/lib/python2.7/site-packages/pandas/core/indexing.py:465: SettingWithCopyWarning:\n",
      "\n",
      "\n",
      "A value is trying to be set on a copy of a slice from a DataFrame.\n",
      "Try using .loc[row_indexer,col_indexer] = value instead\n",
      "\n",
      "See the caveats in the documentation: http://pandas.pydata.org/pandas-docs/stable/indexing.html#indexing-view-versus-copy\n",
      "\n"
     ]
    }
   ],
   "source": [
    "allFromApril4[\"createDate\"] = allFromApril4[\"createTime\"].dt.date\n",
    "\n",
    "\n",
    "completed = allFromApril4[(allFromApril4['status'] == 'completed') & (allFromApril4[\"domainName\"].isin(allowedDomains))]\n",
    "completed.loc[:, 'interviewTime'] = pd.to_timedelta(completed['finishTime'] - completed['createTime']).dt.seconds/60\n",
    "completed.loc[:, 'ptIdleTime'] = pd.to_timedelta(completed['signTime'] - completed['finishTime']).dt.seconds/60\n",
    "completed.loc[:, 'ptCareDeliveryTime'] = pd.to_timedelta(completed['signTime'] - completed['viewTime']).dt.seconds/60\n",
    "\n",
    "completedGroupedMean = completed.groupby(['createDate', 'chiefComplaint'])\n",
    "completedGroupedMean = completedGroupedMean.mean()\n",
    "completedGroupedMean = completedGroupedMean.reset_index()\n",
    "\n",
    "completedGroupedMedian = completed.groupby(['createDate', 'chiefComplaint'])\n",
    "completedGroupedMedian = completedGroupedMedian.median()\n",
    "completedGroupedMedian = completedGroupedMedian.reset_index()"
   ]
  },
  {
   "cell_type": "code",
   "execution_count": 7,
   "metadata": {
    "collapsed": true
   },
   "outputs": [],
   "source": [
    "def plotHistogram(data, **kw):\n",
    "    \"\"\"\n",
    "    Plot histogram with nice layout\n",
    "    \"\"\"\n",
    "    layout = Layout(\n",
    "        title=kw.get('title', ''),\n",
    "        xaxis=dict(\n",
    "            title=kw.get('xlabel', '')\n",
    "        ),\n",
    "        yaxis=dict(\n",
    "            title=kw.get('ylabel', '')\n",
    "        ),\n",
    "        bargap=0.1,\n",
    "        bargroupgap=0\n",
    "    )\n",
    "    bins = dict(start=0, end=100, size=1)\n",
    "    plotly.offline.iplot(Figure(data=[Histogram(x=data, xbins=bins, autobinx=False)], layout=layout))\n",
    "\n",
    "modules = pd.Series(completed[\"chiefComplaint\"]).unique()\n",
    "def plotStackBar(data, fields, title):\n",
    "    \"\"\"\n",
    "    Plot stack bard with multiple fields\n",
    "    \"\"\"\n",
    "    charts = []\n",
    "    y = data\n",
    "    for f in fields:\n",
    "        charts.append(Bar(y=y[f], x=y['createDate'], name=f))\n",
    "\n",
    "    layout = Layout(barmode='stack', title=title)\n",
    "    figTimes = Figure(data=charts, layout=layout)\n",
    "    plotly.offline.iplot(figTimes)"
   ]
  },
  {
   "cell_type": "code",
   "execution_count": 8,
   "metadata": {
    "collapsed": false
   },
   "outputs": [
    {
     "data": {
      "text/html": [
       "<div id=\"0c8056c8-e9e7-4552-b874-ede51db2fa52\" style=\"height: 525px; width: 100%;\" class=\"plotly-graph-div\"></div><script type=\"text/javascript\">require([\"plotly\"], function(Plotly) { window.PLOTLYENV=window.PLOTLYENV || {};window.PLOTLYENV.BASE_URL=\"https://plot.ly\";Plotly.newPlot(\"0c8056c8-e9e7-4552-b874-ede51db2fa52\", [{\"x\": [9.916666666666666, 21.116666666666667, 8.35, 7.9, 16.566666666666666, 11.366666666666667, 7.633333333333334, 18.533333333333335, 11.65, 16.3, 9.666666666666666, 11.716666666666667, 11.6, 12.1, 11.666666666666666, 27.466666666666665, 52.233333333333334, 13.566666666666666, 44.63333333333333, 17.733333333333334, 11.716666666666667, 8.0, 6.383333333333334, 5.866666666666666, 16.833333333333332, 9.45, 43.05, 2.1166666666666667, 8.0, 18.533333333333335, 9.616666666666667, 15.433333333333334, 10.233333333333333, 34.71666666666667, 62.983333333333334, 14.266666666666667, 10.5, 15.433333333333334, 16.333333333333332, 7.283333333333333, 10.416666666666666, 14.883333333333333, 8.383333333333333, 10.283333333333333, 7.05, 13.533333333333333, 28.4, 17.916666666666668, 6.633333333333334, 39.6, 11.533333333333333, 15.1, 10.916666666666666, 15.433333333333334, 19.05, 3.6666666666666665, 61.416666666666664, 11.283333333333333, 13.133333333333333, 8.166666666666666, 7.15, 8.383333333333333, 19.65, 13.4, 18.983333333333334, 10.783333333333333, 10.683333333333334, 6.066666666666666, 13.066666666666666, 13.966666666666667, 8.566666666666666, 6.85, 23.483333333333334, 13.766666666666667, 8.0, 11.616666666666667, 21.316666666666666, 14.183333333333334, 15.433333333333334, 13.4, 21.016666666666666, 10.116666666666667, 8.0, 22.616666666666667, 12.083333333333334, 15.433333333333334, 9.383333333333333, 4.05, 7.833333333333333, 5.866666666666666, 6.3, 10.816666666666666, 13.533333333333333, 11.35, 8.583333333333334, 6.416666666666667, 11.816666666666666, 8.566666666666666, 14.2, 9.316666666666666, 12.1, 3.35, 15.3, 8.0, 25.116666666666667, 22.983333333333334, 6.066666666666666, 18.533333333333335, 13.533333333333333, 13.533333333333333, 11.6, 28.716666666666665, 11.6, 13.533333333333333, 29.333333333333332, 42.43333333333333, 10.9, 10.8, 7.166666666666667, 8.0, 13.883333333333333, 18.533333333333335, 15.433333333333334, 7.8, 6.516666666666667, 5.833333333333333, 14.5, 13.533333333333333, 10.333333333333334, 17.483333333333334, 18.533333333333335, 13.816666666666666, 9.483333333333333, 24.133333333333333, 1.2166666666666666, 8.366666666666667, 14.6, 17.75, 18.533333333333335, 11.916666666666666], \"type\": \"histogram\", \"autobinx\": false, \"xbins\": {\"start\": 0, \"end\": 100, \"size\": 1}}], {\"title\": \"Histogram of Pt interview time\", \"bargroupgap\": 0, \"bargap\": 0.1, \"xaxis\": {\"title\": \"Minutes\"}, \"yaxis\": {\"title\": \"Frequency\"}}, {\"linkText\": \"Export to plot.ly\", \"showLink\": true})});</script>"
      ],
      "text/plain": [
       "<IPython.core.display.HTML object>"
      ]
     },
     "metadata": {},
     "output_type": "display_data"
    }
   ],
   "source": [
    "plotHistogram(completed['interviewTime'], title=\"Histogram of Pt interview time\", xlabel=\"Minutes\", ylabel=\"Frequency\")"
   ]
  },
  {
   "cell_type": "code",
   "execution_count": null,
   "metadata": {
    "collapsed": false
   },
   "outputs": [],
   "source": [
    "plotHistogram(completed['ptIdleTime'], title=\"Histogram of Pt idle time\", xlabel=\"Minutes\", ylabel=\"Frequency\")"
   ]
  },
  {
   "cell_type": "code",
   "execution_count": null,
   "metadata": {
    "collapsed": false
   },
   "outputs": [],
   "source": [
    "plotly.offline.iplot(Figure(data=[Box(y=completed['ptIdleTime'])], layout=Layout( yaxis=dict(range=[0, 40]))))"
   ]
  },
  {
   "cell_type": "code",
   "execution_count": null,
   "metadata": {
    "collapsed": false
   },
   "outputs": [],
   "source": [
    "plotHistogram(completed['ptCareDeliveryTime'], title=\"Histogram of Pt care delivery time\", xlabel=\"Minutes\", ylabel=\"Frequency\")"
   ]
  }
 ],
 "metadata": {
  "kernelspec": {
   "display_name": "Python 2",
   "language": "python",
   "name": "python2"
  },
  "language_info": {
   "codemirror_mode": {
    "name": "ipython",
    "version": 2
   },
   "file_extension": ".py",
   "mimetype": "text/x-python",
   "name": "python",
   "nbconvert_exporter": "python",
   "pygments_lexer": "ipython2",
   "version": "2.7.10"
  }
 },
 "nbformat": 4,
 "nbformat_minor": 0
}
