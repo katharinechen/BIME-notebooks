{
 "cells": [
  {
   "cell_type": "code",
   "execution_count": 1,
   "metadata": {
    "collapsed": false
   },
   "outputs": [
    {
     "name": "stderr",
     "output_type": "stream",
     "text": [
      "/Users/agraves/Brightmd/lib/python2.7/site-packages/matplotlib/font_manager.py:273: UserWarning:\n",
      "\n",
      "Matplotlib is building the font cache using fc-list. This may take a moment.\n",
      "\n"
     ]
    },
    {
     "name": "stdout",
     "output_type": "stream",
     "text": [
      "1.12.4\n"
     ]
    },
    {
     "data": {
      "text/html": [
       "<script>requirejs.config({paths: { 'plotly': ['https://cdn.plot.ly/plotly-latest.min']},});if(!window.Plotly) {{require(['plotly'],function(plotly) {window.Plotly=plotly;});}}</script>"
      ],
      "text/plain": [
       "<IPython.core.display.HTML object>"
      ]
     },
     "metadata": {},
     "output_type": "display_data"
    }
   ],
   "source": [
    "from plotly import __version__\n",
    "from plotly.offline import download_plotlyjs, init_notebook_mode, plot, iplot\n",
    "from plotly.graph_objs import Box, Histogram, Layout, Figure, Bar, Scatter, Marker, Line\n",
    "print __version__ # requires version >= 1.9.0\n",
    "from plotly import tools\n",
    "\n",
    "init_notebook_mode(connected=True) # run at the start of every ipython notebook"
   ]
  },
  {
   "cell_type": "code",
   "execution_count": 4,
   "metadata": {
    "collapsed": true
   },
   "outputs": [],
   "source": [
    "import pandas as pd\n",
    "import csv\n",
    "\n",
    "HEADERS = ['quarter', 'agegrp', 'gender', 'urban', 'total']\n",
    "FILE = 'aggregated_amb_unique.csv'\n",
    "AGEGRP = {'0-4': '00-04', '5-9': '05-09'}"
   ]
  },
  {
   "cell_type": "code",
   "execution_count": 3,
   "metadata": {
    "collapsed": false
   },
   "outputs": [
    {
     "ename": "StopIteration",
     "evalue": "",
     "output_type": "error",
     "traceback": [
      "\u001b[0;31m---------------------------------------------------------------------------\u001b[0m",
      "\u001b[0;31mStopIteration\u001b[0m                             Traceback (most recent call last)",
      "\u001b[0;32m<ipython-input-3-31ece576ebda>\u001b[0m in \u001b[0;36m<module>\u001b[0;34m()\u001b[0m\n\u001b[1;32m      1\u001b[0m \u001b[0;32mwith\u001b[0m \u001b[0mopen\u001b[0m\u001b[0;34m(\u001b[0m\u001b[0mFILE\u001b[0m\u001b[0;34m)\u001b[0m \u001b[0;32mas\u001b[0m \u001b[0mf\u001b[0m\u001b[0;34m:\u001b[0m\u001b[0;34m\u001b[0m\u001b[0m\n\u001b[1;32m      2\u001b[0m     \u001b[0mreader\u001b[0m \u001b[0;34m=\u001b[0m \u001b[0mcsv\u001b[0m\u001b[0;34m.\u001b[0m\u001b[0mDictReader\u001b[0m\u001b[0;34m(\u001b[0m\u001b[0mf\u001b[0m\u001b[0;34m,\u001b[0m \u001b[0mfieldnames\u001b[0m\u001b[0;34m=\u001b[0m\u001b[0mHEADERS\u001b[0m\u001b[0;34m)\u001b[0m\u001b[0;34m\u001b[0m\u001b[0m\n\u001b[0;32m----> 3\u001b[0;31m     \u001b[0mreader\u001b[0m\u001b[0;34m.\u001b[0m\u001b[0mnext\u001b[0m\u001b[0;34m(\u001b[0m\u001b[0;34m)\u001b[0m\u001b[0;34m\u001b[0m\u001b[0m\n\u001b[0m\u001b[1;32m      4\u001b[0m     \u001b[0mdf\u001b[0m \u001b[0;34m=\u001b[0m \u001b[0mpd\u001b[0m\u001b[0;34m.\u001b[0m\u001b[0mDataFrame\u001b[0m\u001b[0;34m(\u001b[0m\u001b[0;34m[\u001b[0m\u001b[0mrow\u001b[0m \u001b[0;32mfor\u001b[0m \u001b[0mrow\u001b[0m \u001b[0;32min\u001b[0m \u001b[0mreader\u001b[0m\u001b[0;34m]\u001b[0m\u001b[0;34m)\u001b[0m\u001b[0;34m\u001b[0m\u001b[0m\n\u001b[1;32m      5\u001b[0m     \u001b[0mdf\u001b[0m\u001b[0;34m[\u001b[0m\u001b[0;34m'total'\u001b[0m\u001b[0;34m]\u001b[0m \u001b[0;34m=\u001b[0m \u001b[0mpd\u001b[0m\u001b[0;34m.\u001b[0m\u001b[0mto_numeric\u001b[0m\u001b[0;34m(\u001b[0m\u001b[0mdf\u001b[0m\u001b[0;34m[\u001b[0m\u001b[0;34m'total'\u001b[0m\u001b[0;34m]\u001b[0m\u001b[0;34m)\u001b[0m\u001b[0;34m\u001b[0m\u001b[0m\n",
      "\u001b[0;32m/System/Library/Frameworks/Python.framework/Versions/2.7/lib/python2.7/csv.pyc\u001b[0m in \u001b[0;36mnext\u001b[0;34m(self)\u001b[0m\n\u001b[1;32m    106\u001b[0m             \u001b[0;31m# Used only for its side effect.\u001b[0m\u001b[0;34m\u001b[0m\u001b[0;34m\u001b[0m\u001b[0m\n\u001b[1;32m    107\u001b[0m             \u001b[0mself\u001b[0m\u001b[0;34m.\u001b[0m\u001b[0mfieldnames\u001b[0m\u001b[0;34m\u001b[0m\u001b[0m\n\u001b[0;32m--> 108\u001b[0;31m         \u001b[0mrow\u001b[0m \u001b[0;34m=\u001b[0m \u001b[0mself\u001b[0m\u001b[0;34m.\u001b[0m\u001b[0mreader\u001b[0m\u001b[0;34m.\u001b[0m\u001b[0mnext\u001b[0m\u001b[0;34m(\u001b[0m\u001b[0;34m)\u001b[0m\u001b[0;34m\u001b[0m\u001b[0m\n\u001b[0m\u001b[1;32m    109\u001b[0m         \u001b[0mself\u001b[0m\u001b[0;34m.\u001b[0m\u001b[0mline_num\u001b[0m \u001b[0;34m=\u001b[0m \u001b[0mself\u001b[0m\u001b[0;34m.\u001b[0m\u001b[0mreader\u001b[0m\u001b[0;34m.\u001b[0m\u001b[0mline_num\u001b[0m\u001b[0;34m\u001b[0m\u001b[0m\n\u001b[1;32m    110\u001b[0m \u001b[0;34m\u001b[0m\u001b[0m\n",
      "\u001b[0;31mStopIteration\u001b[0m: "
     ]
    }
   ],
   "source": [
    "with open(FILE) as f:\n",
    "    reader = csv.DictReader(f, fieldnames=HEADERS)\n",
    "    reader.next()\n",
    "    df = pd.DataFrame([row for row in reader])\n",
    "    df['total'] = pd.to_numeric(df['total'])"
   ]
  },
  {
   "cell_type": "code",
   "execution_count": null,
   "metadata": {
    "collapsed": false
   },
   "outputs": [],
   "source": [
    "df.head()"
   ]
  },
  {
   "cell_type": "markdown",
   "metadata": {},
   "source": [
    "## Records by age"
   ]
  },
  {
   "cell_type": "code",
   "execution_count": null,
   "metadata": {
    "collapsed": false
   },
   "outputs": [],
   "source": [
    "df_per_age = df.groupby(['agegrp']).aggregate('sum').reset_index()\n",
    "df_per_age['agegrp'] = 'age ' + df_per_age['agegrp'].astype(str)\n",
    "iplot(Figure(data=[Bar(x=df_per_age['agegrp'], y=df_per_age['total'])]))"
   ]
  },
  {
   "cell_type": "markdown",
   "metadata": {},
   "source": [
    "## Histogram by age and gender"
   ]
  },
  {
   "cell_type": "code",
   "execution_count": null,
   "metadata": {
    "collapsed": false
   },
   "outputs": [],
   "source": [
    "df_per_age_gender = df.groupby(['agegrp', 'gender']).aggregate('sum').reset_index()\n",
    "df_per_age_gender['agegrp'] = 'age ' + df_per_age_gender['agegrp'].astype(str)\n",
    "\n",
    "female = df_per_age_gender[df_per_age_gender['gender'] == \"F\"]\n",
    "male = df_per_age_gender[df_per_age_gender['gender'] == \"M\"]\n",
    "\n",
    "age_gender_data = [Bar(x=female['agegrp'], y=female['total'], name=\"Females\"), Bar(x=male['agegrp'], y=male['total'], name=\"Males\")]\n",
    "\n",
    "\n",
    "layout = Layout(\n",
    "    barmode='stack'\n",
    ")\n",
    "\n",
    "fig = Figure(data=age_gender_data, layout=layout)\n",
    "iplot(fig)\n"
   ]
  },
  {
   "cell_type": "markdown",
   "metadata": {},
   "source": [
    "## Histogram by age and rurality"
   ]
  },
  {
   "cell_type": "code",
   "execution_count": null,
   "metadata": {
    "collapsed": false
   },
   "outputs": [],
   "source": [
    "df_per_age_rural = df.groupby(['agegrp', 'urban']).aggregate('sum').reset_index()\n",
    "df_per_age_rural['agegrp'] = 'age ' + df_per_age_gender['agegrp'].astype(str)\n",
    "\n",
    "urban = df_per_age_rural[df_per_age_rural['urban'] == \"1\"]\n",
    "rural = df_per_age_rural[df_per_age_rural['urban'] == \"0\"]\n",
    "\n",
    "age_rural = [Bar(x=urban['agegrp'], y=urban['total'], name=\"Urban\"), Bar(x=rural['agegrp'], y=rural['total'], name=\"Rural\")]\n",
    "\n",
    "\n",
    "layout = Layout(\n",
    "    barmode='stack'\n",
    ")\n",
    "\n",
    "fig = Figure(data=age_rural, layout=layout)\n",
    "iplot(fig)\n"
   ]
  },
  {
   "cell_type": "markdown",
   "metadata": {
    "collapsed": false
   },
   "source": [
    "## Unique patients per group age and quarter"
   ]
  },
  {
   "cell_type": "code",
   "execution_count": null,
   "metadata": {
    "collapsed": false,
    "scrolled": false
   },
   "outputs": [],
   "source": [
    "df_per_quarter_age = df.groupby(['quarter', 'agegrp']).aggregate('sum')\n",
    "df_per_quarter_age = df_per_quarter_age.reset_index()\n",
    "df_per_quarter_age['agegrp'] = df_per_quarter_age['agegrp'].apply(lambda x: AGEGRP[x] if x in AGEGRP else x)\n",
    "df_per_quarter_age.head(20)\n",
    "\n",
    "max_value = max(df_per_quarter_age['total'])\n",
    "ages = list(df_per_quarter_age['agegrp'].unique()) #['Q1', 'Q2', 'Q3', 'Q4']\n",
    "ages = sorted(ages)\n",
    "fig = tools.make_subplots(rows=int(round(len(ages)/2.0)), cols=2, subplot_titles=ages, print_grid=False)\n",
    "for i, q in enumerate(ages):\n",
    "    z = df_per_quarter_age[df_per_quarter_age['agegrp'] == q]\n",
    "    fig.append_trace(Scatter(x=z['quarter'], y=z['total'], name=q), int(i/2.0 + 1), i%2 + 1)\n",
    "\n",
    "fig['layout'].update(height=3000, width=1000, title='Unique visitors per age group per quarter', )\n",
    "\n",
    "iplot(fig)"
   ]
  },
  {
   "cell_type": "code",
   "execution_count": null,
   "metadata": {
    "collapsed": false
   },
   "outputs": [],
   "source": [
    "df_per_quarter_age[df_per_quarter_age['agegrp'] == '0-4']['total'].c"
   ]
  },
  {
   "cell_type": "code",
   "execution_count": null,
   "metadata": {
    "collapsed": true
   },
   "outputs": [],
   "source": []
  }
 ],
 "metadata": {
  "kernelspec": {
   "display_name": "Python 2",
   "language": "python",
   "name": "python2"
  },
  "language_info": {
   "codemirror_mode": {
    "name": "ipython",
    "version": 2
   },
   "file_extension": ".py",
   "mimetype": "text/x-python",
   "name": "python",
   "nbconvert_exporter": "python",
   "pygments_lexer": "ipython2",
   "version": "2.7.10"
  }
 },
 "nbformat": 4,
 "nbformat_minor": 0
}
