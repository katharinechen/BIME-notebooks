{
 "cells": [
  {
   "cell_type": "code",
   "execution_count": 17,
   "metadata": {
    "collapsed": true
   },
   "outputs": [],
   "source": [
    "# create a collaboration TSV file \n",
    "from os import walk\n",
    "\n",
    "ENDING_STRING = \".dat\"\n",
    "STARTING_STRING = \"AMB_\"\n",
    "QUARTER = ['201401', '201404', '201407', '201410']\n",
    "HEADERS = ['year', 'quarter', 'patid', 'gender', 'agegrp', 'race', 'ethnicity', 'language', 'metro', 'paid', 'patpaid', 'payer', 'pos', 'urban', 'dx1', 'px1', 'hcg']"
   ]
  },
  {
   "cell_type": "code",
   "execution_count": 19,
   "metadata": {
    "collapsed": false
   },
   "outputs": [
    {
     "name": "stdout",
     "output_type": "stream",
     "text": [
      "AMB_outpatient_201401_201403.dat Q1\n",
      "AMB_outpatient_201404_201406.dat Q2\n",
      "AMB_outpatient_201407_201409.dat Q3\n",
      "AMB_outpatient_201410_201412.dat Q4\n"
     ]
    }
   ],
   "source": [
    "g = open('AMB_ALL.tsv', 'w')\n",
    "\n",
    "g.write(\"\\t\".join(HEADERS)+\"\\n\")\n",
    "\n",
    "for root, dirs, files in walk(\".\"):\n",
    "    for f in files:\n",
    "        if f.endswith(ENDING_STRING) and f.startswith(STARTING_STRING):\n",
    "            for q in QUARTER:\n",
    "                if q in f:\n",
    "                    quarter = 'Q%d' % (QUARTER.index(q) + 1)\n",
    "            print f, quarter\n",
    "            counter = 0\n",
    "            with open(f) as fd:\n",
    "                for line in fd:\n",
    "                    l = line.split(\"\\t\")\n",
    "                    if l[0] == HEADERS[0]:\n",
    "                        continue\n",
    "                    l.insert(1, quarter)\n",
    "                    print >>g, \"\\t\".join(l)\n",
    "                    counter += 1\n",
    "\n",
    "g.close()"
   ]
  },
  {
   "cell_type": "code",
   "execution_count": null,
   "metadata": {
    "collapsed": true
   },
   "outputs": [],
   "source": []
  }
 ],
 "metadata": {
  "kernelspec": {
   "display_name": "Python 2",
   "language": "python",
   "name": "python2"
  },
  "language_info": {
   "codemirror_mode": {
    "name": "ipython",
    "version": 2
   },
   "file_extension": ".py",
   "mimetype": "text/x-python",
   "name": "python",
   "nbconvert_exporter": "python",
   "pygments_lexer": "ipython2",
   "version": "2.7.10"
  }
 },
 "nbformat": 4,
 "nbformat_minor": 0
}
