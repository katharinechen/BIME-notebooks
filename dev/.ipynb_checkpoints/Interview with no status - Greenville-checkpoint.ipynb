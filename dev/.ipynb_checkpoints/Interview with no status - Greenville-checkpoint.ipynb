{
 "cells": [
  {
   "cell_type": "markdown",
   "metadata": {},
   "source": [
    "## Interview times - Greenville\n",
    "**Goal:** Confirm that all interviews have a status"
   ]
  },
  {
   "cell_type": "markdown",
   "metadata": {},
   "source": [
    "### Imports"
   ]
  },
  {
   "cell_type": "code",
   "execution_count": 13,
   "metadata": {
    "collapsed": false
   },
   "outputs": [
    {
     "data": {
      "text/html": [
       "<script>requirejs.config({paths: { 'plotly': ['https://cdn.plot.ly/plotly-latest.min']},});if(!window.Plotly) {{require(['plotly'],function(plotly) {window.Plotly=plotly;});}}</script>"
      ],
      "text/plain": [
       "<IPython.core.display.HTML object>"
      ]
     },
     "metadata": {},
     "output_type": "display_data"
    }
   ],
   "source": [
    "from datetime import datetime, date\n",
    "import pandas as pd\n",
    "\n",
    "import nbimporter\n",
    "import utils\n",
    "plotly, Box, Histogram, Layout, Figure, Bar, Scatter, Marker = utils.setPlotly()"
   ]
  },
  {
   "cell_type": "markdown",
   "metadata": {},
   "source": [
    "### Get the data"
   ]
  },
  {
   "cell_type": "code",
   "execution_count": 14,
   "metadata": {
    "collapsed": true
   },
   "outputs": [],
   "source": [
    "allowedStatus = utils.allowedStatus\n",
    "allowedDomains = utils.allowedDomains['greenville']"
   ]
  },
  {
   "cell_type": "code",
   "execution_count": 15,
   "metadata": {
    "collapsed": true
   },
   "outputs": [],
   "source": [
    "ia = utils.getInterviewArchive()"
   ]
  },
  {
   "cell_type": "code",
   "execution_count": 16,
   "metadata": {
    "collapsed": true
   },
   "outputs": [],
   "source": [
    "april4 = datetime(2016, 4, 4)\n",
    "allFromApril4 = pd.DataFrame(list(ia.find({\"createTime\": {\"$gte\": april4}, \"domainName\": {\"$in\": allowedDomains}})))"
   ]
  },
  {
   "cell_type": "code",
   "execution_count": 24,
   "metadata": {
    "collapsed": true
   },
   "outputs": [],
   "source": [
    "noStatus = pd.DataFrame(list(ia.find({\"status\": {\"$in\": [None]}, \"domainName\": {\"$in\": allowedDomains}})))"
   ]
  },
  {
   "cell_type": "code",
   "execution_count": 25,
   "metadata": {
    "collapsed": false
   },
   "outputs": [
    {
     "data": {
      "text/plain": [
       "0"
      ]
     },
     "execution_count": 25,
     "metadata": {},
     "output_type": "execute_result"
    }
   ],
   "source": [
    "len(noStatus)"
   ]
  },
  {
   "cell_type": "code",
   "execution_count": 22,
   "metadata": {
    "collapsed": false
   },
   "outputs": [],
   "source": [
    "groupedNoStatus = pd.DataFrame(noStatus.groupby(by=['createTime', 'chiefComplaint']).size())\n",
    "groupedNoStatus = groupedNoStatus.rename(columns={0: 'total'})\n",
    "groupedNoStatus = groupedNoStatus.reset_index()"
   ]
  },
  {
   "cell_type": "code",
   "execution_count": 23,
   "metadata": {
    "collapsed": false
   },
   "outputs": [
    {
     "data": {
      "text/html": [
       "<div id=\"3d0f8484-a50a-48d6-8b1d-633d30452ad5\" style=\"height: 525px; width: 100%;\" class=\"plotly-graph-div\"></div><script type=\"text/javascript\">require([\"plotly\"], function(Plotly) { window.PLOTLYENV=window.PLOTLYENV || {};window.PLOTLYENV.BASE_URL=\"https://plot.ly\";Plotly.newPlot(\"3d0f8484-a50a-48d6-8b1d-633d30452ad5\", [{\"y\": [6, 6, 6, 1, 1, 1, 1, 1, 1, 1, 1, 1, 1, 1, 1, 3, 1, 1, 1, 1, 1, 1, 1, 1, 1, 1, 1, 1, 1, 1, 1, 1, 1, 1, 1, 1], \"x\": [\"2016-10-05 20:10:41.671000\", \"2016-10-06 18:54:45.743000\", \"2016-10-07 12:24:41.888000\", \"2016-10-07 17:09:09.913000\", \"2016-10-09 13:36:40.929000\", \"2016-10-12 22:37:09.211000\", \"2016-10-15 10:54:28.716000\", \"2016-10-18 13:44:53.851000\", \"2016-10-18 15:27:26.940000\", \"2016-10-19 21:40:14.712000\", \"2016-10-20 16:32:07.552000\", \"2016-10-20 21:58:03.861000\", \"2016-10-21 10:31:42.015000\", \"2016-10-25 14:01:43.382000\", \"2016-10-27 14:21:38.619000\", \"2016-10-29 14:11:27.460000\", \"2016-10-29 17:25:44.483000\", \"2016-10-31 18:01:09.756000\", \"2016-11-01 12:34:23.007000\", \"2016-11-01 12:49:32.727000\", \"2016-11-01 18:52:29.426000\", \"2016-11-03 22:20:32.527000\", \"2016-11-04 20:01:04.280000\", \"2016-11-06 14:42:08.060000\", \"2016-11-07 20:21:45.274000\", \"2016-11-09 00:11:48.879000\", \"2016-11-09 13:13:19.520000\", \"2016-11-09 19:47:41.680000\", \"2016-11-10 21:48:34.191000\", \"2016-11-11 14:58:50.609000\", \"2016-11-13 14:17:05.948000\", \"2016-11-14 12:10:50.654000\", \"2016-11-14 13:26:08.607000\", \"2016-11-16 12:15:24.417000\", \"2016-11-16 13:43:58.654000\", \"2016-11-16 17:54:20.634000\"], \"type\": \"bar\", \"name\": \"Sinus pain or pressure\"}, {\"y\": [6, 1, 1, 1, 1, 1, 1, 1, 1, 1, 1, 1, 1, 1, 1, 1, 1, 1, 1, 1, 1, 1, 1, 1, 1, 1, 1, 1, 1, 1], \"x\": [\"2016-10-06 21:08:43.761000\", \"2016-10-09 19:32:58.477000\", \"2016-10-11 18:04:20.373000\", \"2016-10-13 14:42:01.685000\", \"2016-10-13 15:06:42.135000\", \"2016-10-14 14:06:31.348000\", \"2016-10-14 19:24:34.798000\", \"2016-10-15 18:27:56.277000\", \"2016-10-16 14:18:13.554000\", \"2016-10-16 14:41:10.341000\", \"2016-10-16 15:17:44.207000\", \"2016-10-16 15:45:44.212000\", \"2016-10-19 20:33:38.470000\", \"2016-10-21 12:11:49.814000\", \"2016-10-21 14:50:25.829000\", \"2016-10-22 13:32:15.477000\", \"2016-10-24 15:44:02.331000\", \"2016-10-26 16:09:48.016000\", \"2016-10-27 12:28:06.187000\", \"2016-10-27 20:18:04.884000\", \"2016-10-30 17:29:41.919000\", \"2016-10-31 12:42:23.169000\", \"2016-11-01 12:57:05.417000\", \"2016-11-03 20:00:49.350000\", \"2016-11-04 13:29:50.855000\", \"2016-11-10 13:57:42.998000\", \"2016-11-10 17:03:09.790000\", \"2016-11-11 15:03:12.940000\", \"2016-11-11 17:31:36.171000\", \"2016-11-14 19:23:33.463000\"], \"type\": \"bar\", \"name\": \"Cough, cold, or allergy\"}, {\"y\": [1, 1, 1, 1, 1, 1, 1, 1, 1, 1, 1, 1], \"x\": [\"2016-10-07 13:06:24.407000\", \"2016-10-10 01:14:06.726000\", \"2016-10-14 13:26:37.022000\", \"2016-10-17 23:09:16.821000\", \"2016-10-18 21:42:13.150000\", \"2016-10-27 17:43:08.309000\", \"2016-10-29 20:44:51.914000\", \"2016-11-01 13:32:10.553000\", \"2016-11-04 12:36:09.065000\", \"2016-11-04 17:30:46.817000\", \"2016-11-07 12:33:45.882000\", \"2016-11-16 12:56:24.776000\"], \"type\": \"bar\", \"name\": \"Sore throat\"}, {\"y\": [1, 1, 1], \"x\": [\"2016-10-07 19:43:34.907000\", \"2016-11-08 21:46:23.449000\", \"2016-11-13 19:28:51.525000\"], \"type\": \"bar\", \"name\": \"Ear pain\"}, {\"y\": [1, 1, 1, 1, 1, 1, 1, 1, 1, 1, 1, 1, 1, 1, 1, 1, 1, 1, 1, 1, 1, 1, 1, 1], \"x\": [\"2016-10-08 16:39:53.346000\", \"2016-10-08 16:43:12.038000\", \"2016-10-11 13:42:32.834000\", \"2016-10-12 11:34:55.235000\", \"2016-10-14 16:20:51.169000\", \"2016-10-14 22:48:17.614000\", \"2016-10-15 16:24:21.996000\", \"2016-10-16 14:50:08.073000\", \"2016-10-18 16:40:56.892000\", \"2016-10-21 17:12:07.857000\", \"2016-10-23 14:53:55.880000\", \"2016-10-23 16:17:22.630000\", \"2016-10-26 18:24:30.363000\", \"2016-10-29 17:23:06.241000\", \"2016-10-30 01:38:09.512000\", \"2016-10-30 12:38:01.303000\", \"2016-10-30 18:46:08.338000\", \"2016-11-03 12:19:12.893000\", \"2016-11-03 19:30:14.927000\", \"2016-11-04 17:44:37.488000\", \"2016-11-08 14:37:46.929000\", \"2016-11-10 19:34:30.221000\", \"2016-11-11 21:23:19.192000\", \"2016-11-15 17:39:43.703000\"], \"type\": \"bar\", \"name\": \"Bladder infection (UTI)\"}, {\"y\": [1, 1, 1], \"x\": [\"2016-10-09 02:18:15.114000\", \"2016-11-10 15:24:20.275000\", \"2016-11-12 18:27:59.474000\"], \"type\": \"bar\", \"name\": \"Sexually transmitted infection exposure\"}, {\"y\": [1], \"x\": [\"2016-10-09 21:24:49.035000\"], \"type\": \"bar\", \"name\": \"Ear pain (Pediatric)\"}, {\"y\": [1, 1], \"x\": [\"2016-10-12 17:55:03.127000\", \"2016-11-12 18:38:20.889000\"], \"type\": \"bar\", \"name\": \"Rashes and other skin conditions\"}, {\"y\": [1, 1, 1, 1, 1, 1, 1], \"x\": [\"2016-10-23 16:26:30.204000\", \"2016-11-03 14:24:01.562000\", \"2016-11-09 18:27:25.116000\", \"2016-11-10 13:34:31.197000\", \"2016-11-13 10:49:55.328000\", \"2016-11-15 18:18:19.217000\", \"2016-11-16 14:57:30.794000\"], \"type\": \"bar\", \"name\": \"Yeast infection\"}], {\"bargap\": 0.2, \"title\": \"Ocurrences of interviews without status\"}, {\"linkText\": \"Export to plot.ly\", \"showLink\": true})});</script>"
      ],
      "text/plain": [
       "<IPython.core.display.HTML object>"
      ]
     },
     "metadata": {},
     "output_type": "display_data"
    }
   ],
   "source": [
    "modules = groupedNoStatus['chiefComplaint'].unique()\n",
    "noStatusPerModule = []\n",
    "for m in modules:\n",
    "    mSlice = groupedNoStatus[groupedNoStatus['chiefComplaint'] == m]\n",
    "    noStatusPerModule.append(Bar(x=mSlice['createTime'],y=mSlice['total'], name=m ))\n",
    "\n",
    "plotly.offline.iplot(Figure(data=noStatusPerModule, layout=Layout(bargap=0.2, title=\"Ocurrences of interviews without status\")))"
   ]
  },
  {
   "cell_type": "code",
   "execution_count": null,
   "metadata": {
    "collapsed": true
   },
   "outputs": [],
   "source": []
  }
 ],
 "metadata": {
  "kernelspec": {
   "display_name": "Python 2",
   "language": "python",
   "name": "python2"
  },
  "language_info": {
   "codemirror_mode": {
    "name": "ipython",
    "version": 2
   },
   "file_extension": ".py",
   "mimetype": "text/x-python",
   "name": "python",
   "nbconvert_exporter": "python",
   "pygments_lexer": "ipython2",
   "version": "2.7.10"
  }
 },
 "nbformat": 4,
 "nbformat_minor": 0
}
