{
 "cells": [
  {
   "cell_type": "code",
   "execution_count": null,
   "metadata": {
    "collapsed": true
   },
   "outputs": [],
   "source": [
    "from random import random\n",
    "\n",
    "import pymongo\n",
    "import numpy as np\n",
    "import pandas as pd\n",
    "\n",
    "# from plotly import __version__\n",
    "# from plotly.offline import download_plotlyjs, init_notebook_mode, plot, iplot\n",
    "# from plotly.graph_objs import Box, Histogram, Layout, Figure, Bar, Scatter, Marker\n",
    "\n",
    "# init_notebook_mode(connected=True) # run at the start of every ipython notebook\n",
    "_client = pymongo.MongoClient('localhost', 27017)\n",
    "_db = _client['ghs_thalamus']\n"
   ]
  },
  {
   "cell_type": "code",
   "execution_count": 2,
   "metadata": {
    "collapsed": true
   },
   "outputs": [],
   "source": [
    "def getInterviewArchive():\n",
    "    return _db.interview_archive"
   ]
  },
  {
   "cell_type": "code",
   "execution_count": null,
   "metadata": {
    "collapsed": true
   },
   "outputs": [],
   "source": [
    "def setPlotly():\n",
    "    import plotly\n",
    "    plotly.offline.init_notebook_mode(connected=True)\n",
    "    from plotly.graph_objs import Box, Histogram, Layout, Figure, Bar, Scatter, Marker\n",
    "    return plotly, Box, Histogram, Layout, Figure, Bar, Scatter, Marker"
   ]
  },
  {
   "cell_type": "code",
   "execution_count": null,
   "metadata": {
    "collapsed": true
   },
   "outputs": [],
   "source": [
    "allowedStatus = [\"abandoned\", \"completed\", \"exitPointAbandoned\", \"rejected\", \"scheduleCompleted\", \"scheduleRejected\", \"startedEpilogue\"]\n",
    "allowedDomains = {'greenville': [\"-greenville-smartexam-com-443\", \"greenville-smartexam-com-443\"]}"
   ]
  }
 ],
 "metadata": {
  "kernelspec": {
   "display_name": "Python 2",
   "language": "python",
   "name": "python2"
  },
  "language_info": {
   "codemirror_mode": {
    "name": "ipython",
    "version": 2
   },
   "file_extension": ".py",
   "mimetype": "text/x-python",
   "name": "python",
   "nbconvert_exporter": "python",
   "pygments_lexer": "ipython2",
   "version": "2.7.10"
  }
 },
 "nbformat": 4,
 "nbformat_minor": 0
}
